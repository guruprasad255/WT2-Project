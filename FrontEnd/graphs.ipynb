{
 "cells": [
  {
   "cell_type": "code",
   "execution_count": null,
   "metadata": {},
   "outputs": [],
   "source": [
    "!pip install plotly==4.5.4"
   ]
  },
  {
   "cell_type": "code",
   "execution_count": null,
   "metadata": {},
   "outputs": [],
   "source": [
    "from plotly.offline import plot\n",
    "from plotly.graph_objs import Scatter\n",
    "from flask import Markup"
   ]
  },
  {
   "cell_type": "code",
   "execution_count": null,
   "metadata": {},
   "outputs": [],
   "source": [
    "import plotly.graph_objects as go\n",
    "animals=['giraffes', 'orangutans', 'monkeys']\n",
    "\n",
    "fig = go.Figure([go.Bar(x=animals, y=[20, 14, 23])])\n",
    "fig.show()"
   ]
  },
  {
   "cell_type": "code",
   "execution_count": null,
   "metadata": {},
   "outputs": [],
   "source": [
    "import pandas as pd"
   ]
  },
  {
   "cell_type": "code",
   "execution_count": null,
   "metadata": {},
   "outputs": [],
   "source": [
    "df=pd.read_excel('regdata.xlsx')"
   ]
  },
  {
   "cell_type": "code",
   "execution_count": null,
   "metadata": {},
   "outputs": [],
   "source": [
    "list1=df['month'].tolist()\n",
    "list2=df['count'].tolist()"
   ]
  },
  {
   "cell_type": "code",
   "execution_count": null,
   "metadata": {},
   "outputs": [],
   "source": [
    "import plotly.graph_objects as go\n",
    "import plotly.io as pio\n",
    "\n",
    "pio.renderers.default = 'browser'\n",
    "\n",
    "fig = go.Figure([go.Bar(x=list1, y=list2)])\n",
    "fig.show()"
   ]
  },
  {
   "cell_type": "code",
   "execution_count": 1,
   "metadata": {},
   "outputs": [],
   "source": [
    "from plotly.offline import plot\n",
    "from plotly.graph_objs import Bar,Pie\n",
    "from flask import Markup\n",
    "from flask import Flask, render_template,request\n",
    "import pandas as pd\n",
    "import os\n",
    "l=os.getcwd()\n",
    "app = Flask(__name__,template_folder=l)\n",
    "@app.route('/rcreg/<year>', methods=['GET', 'POST'])\n",
    "def test(year):\n",
    "    if request.method == 'GET':\n",
    "        year=int(year)\n",
    "        df=pd.read_excel('regdata.xlsx')\n",
    "        fil=(df['year']== year)\n",
    "        #df=df[df.year.eq(year)]\n",
    "        df=df[fil]\n",
    "        print(df)\n",
    "        list1=df['month'].tolist()\n",
    "        list2=df['count'].tolist()\n",
    "        my_plot_div = plot([Bar(x=list1, y=list2)], output_type='div')\n",
    "        return render_template('test.html',div_placeholder=Markup(my_plot_div))\n",
    "@app.route('/license/appln', methods=['GET', 'POST'])\n",
    "def applncomp():\n",
    "    if request.method == 'GET':\n",
    "        df=pd.read_excel('applcount.xlsx')\n",
    "        list1=df['type'].tolist()\n",
    "        list2=df['countofappl'].tolist()\n",
    "        my_plot_div = plot([Pie(labels=list1, values=list2)], output_type='div')\n",
    "        return render_template('test.html',div_placeholder=Markup(my_plot_div))\n",
    "@app.route('/vahanrev/<year>', methods=['GET', 'POST'])\n",
    "def revenue(year):\n",
    "    if request.method == 'GET':\n",
    "        year=int(year)\n",
    "        df=pd.read_excel('vahanrevenue.xlsx')\n",
    "        fil=(df['year']== year)\n",
    "        df=df[fil]\n",
    "        print(df)\n",
    "        list1=df['month'].tolist()\n",
    "        list2=df['count'].tolist()\n",
    "        my_plot_div = plot([Bar(x=list1, y=list2)], output_type='div')\n",
    "        return render_template('test.html',div_placeholder=Markup(my_plot_div))\n",
    "@app.route('/rcreg/cmpyear', methods=['GET', 'POST'])\n",
    "def rcregcmpyear():\n",
    "    if request.method == 'GET':\n",
    "        df=pd.read_excel('regdata.xlsx')\n",
    "        years=[2016,2017,2018,2019,2020]\n",
    "        total=[]\n",
    "        for year in years:\n",
    "            fil=(df['year']== year)\n",
    "            df_temp=df[fil]\n",
    "            sumtotal=df_temp['count'].sum()\n",
    "            total.append(sumtotal)\n",
    "            \n",
    "        print(total)\n",
    "        my_plot_div = plot([Bar(x=years, y=total)], output_type='div')\n",
    "        return render_template('test.html',div_placeholder=Markup(my_plot_div))\n",
    "@app.route('/vahanrev/cmpyear', methods=['GET', 'POST'])\n",
    "def revcmpyear():\n",
    "    if request.method == 'GET':\n",
    "        df=pd.read_excel('vahanrevenue.xlsx')\n",
    "        years=[2016,2017,2018,2019,2020]\n",
    "        total=[]\n",
    "        for year in years:\n",
    "            fil=(df['year']== year)\n",
    "            df_temp=df[fil]\n",
    "            sumtotal=df_temp['count'].sum()\n",
    "            total.append(sumtotal)\n",
    "            \n",
    "        print(total)\n",
    "        my_plot_div = plot([Bar(x=years, y=total)], output_type='div')\n",
    "        return render_template('test.html',div_placeholder=Markup(my_plot_div))\n",
    "\n",
    "\n",
    "    "
   ]
  },
  {
   "cell_type": "code",
   "execution_count": null,
   "metadata": {},
   "outputs": [
    {
     "name": "stdout",
     "output_type": "stream",
     "text": [
      " * Serving Flask app \"__main__\" (lazy loading)\n",
      " * Environment: production\n",
      "   WARNING: This is a development server. Do not use it in a production deployment.\n",
      "   Use a production WSGI server instead.\n",
      " * Debug mode: off\n"
     ]
    },
    {
     "name": "stderr",
     "output_type": "stream",
     "text": [
      " * Running on http://127.0.0.1:5000/ (Press CTRL+C to quit)\n"
     ]
    }
   ],
   "source": [
    "if __name__ == \"__main__\":\n",
    "    app.run()"
   ]
  },
  {
   "cell_type": "code",
   "execution_count": null,
   "metadata": {},
   "outputs": [],
   "source": [
    "import pandas as pd\n",
    "year=2016\n",
    "df=pd.read_excel('regdata.xlsx')\n",
    "fil=(df['year']== year)\n",
    "df[fil]\n",
    "list1=df['month'].tolist()\n",
    "list2=df['count'].tolist()"
   ]
  },
  {
   "cell_type": "code",
   "execution_count": null,
   "metadata": {},
   "outputs": [],
   "source": [
    "list1"
   ]
  },
  {
   "cell_type": "code",
   "execution_count": null,
   "metadata": {},
   "outputs": [],
   "source": []
  }
 ],
 "metadata": {
  "kernelspec": {
   "display_name": "Python 3",
   "language": "python",
   "name": "python3"
  },
  "language_info": {
   "codemirror_mode": {
    "name": "ipython",
    "version": 3
   },
   "file_extension": ".py",
   "mimetype": "text/x-python",
   "name": "python",
   "nbconvert_exporter": "python",
   "pygments_lexer": "ipython3",
   "version": "3.7.4"
  }
 },
 "nbformat": 4,
 "nbformat_minor": 2
}
